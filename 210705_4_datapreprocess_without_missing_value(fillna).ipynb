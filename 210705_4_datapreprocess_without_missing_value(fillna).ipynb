{
  "nbformat": 4,
  "nbformat_minor": 0,
  "metadata": {
    "colab": {
      "name": "210705 -4. datapreprocess_without missing value(fillna)",
      "provenance": [],
      "collapsed_sections": [],
      "authorship_tag": "ABX9TyPsVAf3bhRAHcCpfxLc76Bz",
      "include_colab_link": true
    },
    "kernelspec": {
      "name": "python3",
      "display_name": "Python 3"
    },
    "language_info": {
      "name": "python"
    }
  },
  "cells": [
    {
      "cell_type": "markdown",
      "metadata": {
        "id": "view-in-github",
        "colab_type": "text"
      },
      "source": [
        "<a href=\"https://colab.research.google.com/github/junanote/test_visualization/blob/master/210705_4_datapreprocess_without_missing_value(fillna).ipynb\" target=\"_parent\"><img src=\"https://colab.research.google.com/assets/colab-badge.svg\" alt=\"Open In Colab\"/></a>"
      ]
    },
    {
      "cell_type": "markdown",
      "metadata": {
        "id": "T-siaB4D5ZQu"
      },
      "source": [
        "top은 가장 많이 카운팅 된 것의 값들을 말한다.\n",
        "\n",
        "freq은 가장 많이 반복된 횟수를 말한다.\n"
      ]
    },
    {
      "cell_type": "code",
      "metadata": {
        "id": "7o3s-ED2RSUK"
      },
      "source": [
        "import pandas as pd\n",
        "import seaborn as sns\n",
        "df = sns.load_dataset('titanic')\n",
        "df.info()\n",
        "df.describe(include='all')\n",
        "df.head(5)"
      ],
      "execution_count": null,
      "outputs": []
    },
    {
      "cell_type": "markdown",
      "metadata": {
        "id": "p9OEsw-5Zad3"
      },
      "source": [
        "missing value :  age, embarked, deck ,embarked_town "
      ]
    },
    {
      "cell_type": "code",
      "metadata": {
        "id": "-R0pOkNYSc5u"
      },
      "source": [
        "df['age'].fillna(29)"
      ],
      "execution_count": null,
      "outputs": []
    },
    {
      "cell_type": "code",
      "metadata": {
        "id": "xZelmiiEdPgj"
      },
      "source": [
        "df.info()"
      ],
      "execution_count": null,
      "outputs": []
    },
    {
      "cell_type": "code",
      "metadata": {
        "id": "gvviYGVKasL1"
      },
      "source": [
        "df_deck = df.dropna(subset=['deck'], how='any',axis='index')\n",
        "df_deck.info()\n"
      ],
      "execution_count": null,
      "outputs": []
    },
    {
      "cell_type": "markdown",
      "metadata": {
        "id": "tk34XucIbf2L"
      },
      "source": [
        "행을 기준으로 하나라도 널이 있으면 삭제"
      ]
    },
    {
      "cell_type": "code",
      "metadata": {
        "id": "F53DsBPsbH7f"
      },
      "source": [
        "df_age = df['age'].fillna(29)\n",
        "type(df_age),df_age.shape"
      ],
      "execution_count": null,
      "outputs": []
    },
    {
      "cell_type": "code",
      "metadata": {
        "id": "aHZQFWJLbsKC"
      },
      "source": [
        "df['age']= df_age\n",
        "df.info()"
      ],
      "execution_count": null,
      "outputs": []
    },
    {
      "cell_type": "code",
      "metadata": {
        "id": "B9qIvdCigCOy"
      },
      "source": [
        "df['deck'].value_counts()"
      ],
      "execution_count": null,
      "outputs": []
    },
    {
      "cell_type": "code",
      "metadata": {
        "id": "MV1UAmIoglGC"
      },
      "source": [
        "df['deck'] = df['deck'].fillna('B')\n",
        "df.info()"
      ],
      "execution_count": null,
      "outputs": []
    },
    {
      "cell_type": "code",
      "metadata": {
        "id": "7RNtmsSfg5vS"
      },
      "source": [
        "df['embarked'].value_counts()"
      ],
      "execution_count": null,
      "outputs": []
    },
    {
      "cell_type": "code",
      "metadata": {
        "id": "cn3AQ0dfhXgH"
      },
      "source": [
        "df['embarked']= df['embarked'].fillna('C')\n",
        "df.info()"
      ],
      "execution_count": null,
      "outputs": []
    },
    {
      "cell_type": "code",
      "metadata": {
        "id": "VZIxim0dhgpV"
      },
      "source": [
        "df['embark_town'].value_counts()"
      ],
      "execution_count": null,
      "outputs": []
    },
    {
      "cell_type": "code",
      "metadata": {
        "id": "At5VB5P7h4FH"
      },
      "source": [
        "df['embark_town'] = df['embark_town'].fillna('Cherbourg')\n",
        "df.info()"
      ],
      "execution_count": null,
      "outputs": []
    },
    {
      "cell_type": "code",
      "metadata": {
        "id": "wPKunw3ZiU_X"
      },
      "source": [
        ""
      ],
      "execution_count": null,
      "outputs": []
    }
  ]
}