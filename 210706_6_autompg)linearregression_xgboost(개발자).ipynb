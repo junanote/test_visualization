{
  "nbformat": 4,
  "nbformat_minor": 0,
  "metadata": {
    "colab": {
      "name": "210706 - 2. autompg)linearregression_xgboost(개발자).ipynb",
      "provenance": [],
      "collapsed_sections": [],
      "authorship_tag": "ABX9TyMMfwn/iSOaFyGC93it0N+S",
      "include_colab_link": true
    },
    "kernelspec": {
      "name": "python3",
      "display_name": "Python 3"
    },
    "language_info": {
      "name": "python"
    }
  },
  "cells": [
    {
      "cell_type": "markdown",
      "metadata": {
        "id": "view-in-github",
        "colab_type": "text"
      },
      "source": [
        "<a href=\"https://colab.research.google.com/github/junanote/test_visualization/blob/master/210706_6_autompg)linearregression_xgboost(%EA%B0%9C%EB%B0%9C%EC%9E%90).ipynb\" target=\"_parent\"><img src=\"https://colab.research.google.com/assets/colab-badge.svg\" alt=\"Open In Colab\"/></a>"
      ]
    },
    {
      "cell_type": "markdown",
      "metadata": {
        "id": "OnqyZHJi_nGa"
      },
      "source": [
        "## load pickle with lineat regression and scaler\n",
        "\n",
        "\n",
        "\n",
        "\n",
        "\n"
      ]
    },
    {
      "cell_type": "code",
      "metadata": {
        "id": "eRMpuYKrm8Ku",
        "colab": {
          "base_uri": "https://localhost:8080/"
        },
        "outputId": "58b2324c-b4d1-45b1-d3f9-7bf39defa0f1"
      },
      "source": [
        "import pickle\n",
        "model = pickle.load(open('./xgb_model.pkl','rb'))\n",
        "type(model)\n"
      ],
      "execution_count": 4,
      "outputs": [
        {
          "output_type": "stream",
          "text": [
            "[08:32:32] WARNING: /workspace/src/objective/regression_obj.cu:152: reg:linear is now deprecated in favor of reg:squarederror.\n"
          ],
          "name": "stdout"
        },
        {
          "output_type": "execute_result",
          "data": {
            "text/plain": [
              "xgboost.sklearn.XGBRegressor"
            ]
          },
          "metadata": {
            "tags": []
          },
          "execution_count": 4
        }
      ]
    },
    {
      "cell_type": "code",
      "metadata": {
        "colab": {
          "base_uri": "https://localhost:8080/"
        },
        "id": "NUoo1cqfnh5w",
        "outputId": "cdd8c3af-b773-41cc-80d5-2b5caf39330d"
      },
      "source": [
        "scaler = pickle.load(open('./scaler_xgb.pkl','rb'))\n",
        "type(scaler)"
      ],
      "execution_count": 5,
      "outputs": [
        {
          "output_type": "execute_result",
          "data": {
            "text/plain": [
              "sklearn.preprocessing._data.StandardScaler"
            ]
          },
          "metadata": {
            "tags": []
          },
          "execution_count": 5
        }
      ]
    },
    {
      "cell_type": "markdown",
      "metadata": {
        "id": "4-fetQZY_29P"
      },
      "source": [
        "# Predict with Linear Regression"
      ]
    },
    {
      "cell_type": "code",
      "metadata": {
        "id": "h1yMhuAB0yb-"
      },
      "source": [
        "displacement = 307.0\n",
        "horsepower = 130.0\n",
        "weight = 3504.0\n",
        "accel = 12.0\n",
        "cylinders = 8\n",
        "origin = 1\n",
        "\n",
        "if cylinders == 3:\n",
        "  cylinders =[1,0,0,0,0]\n",
        "elif cylinders == 4:\n",
        "  cylinders = [0,1,0,0,0]\n",
        "elif cylinders == 5:\n",
        " cylinders = [0,0,1,0,0]\n",
        "elif cylinders == 6:\n",
        " cylinders = [0,0,0,1,0]\n",
        "elif cylinders == 8:\n",
        " cylinders = [0,0,0,0,1]\n",
        "\n",
        "\n",
        "if origin == 1:\n",
        "  org = [1,0,0]\n",
        "elif origin == 2:\n",
        "  org = [0,1,0]\n",
        "elif origin == 3:\n",
        "  org = [0,0,1]\n",
        "\n",
        "x_custmer = [[displacement, horsepower, weight, accel, cylinders, origin]]\n",
        "#[[307.0,130.0,3504.0,12.0, 8, 1]]\n",
        "#\n",
        "#[[307.0,130.0,3504.0,12.0, 0,0,0,0,1,1,0,0]]"
      ],
      "execution_count": 14,
      "outputs": []
    },
    {
      "cell_type": "code",
      "metadata": {
        "colab": {
          "base_uri": "https://localhost:8080/"
        },
        "id": "Y3-ZlkNfBiep",
        "outputId": "b81b9a08-87ab-4c3b-efc1-979218fbc960"
      },
      "source": [
        "x_custmer = scaler.transform([[307.0,130.0,3504.0,12.0, 0,0,0,0,1,1,0,0]])\n",
        "x_custmer.shape"
      ],
      "execution_count": 8,
      "outputs": [
        {
          "output_type": "execute_result",
          "data": {
            "text/plain": [
              "(1, 12)"
            ]
          },
          "metadata": {
            "tags": []
          },
          "execution_count": 8
        }
      ]
    },
    {
      "cell_type": "code",
      "metadata": {
        "colab": {
          "base_uri": "https://localhost:8080/"
        },
        "id": "Nw5uPSQbCU8u",
        "outputId": "d6a04c4f-b80c-498b-8317-1fb9f912fa21"
      },
      "source": [
        "y_pred = model.predict(x_custmer)\n",
        "y_pred[0]"
      ],
      "execution_count": 13,
      "outputs": [
        {
          "output_type": "execute_result",
          "data": {
            "text/plain": [
              "17.617666"
            ]
          },
          "metadata": {
            "tags": []
          },
          "execution_count": 13
        }
      ]
    },
    {
      "cell_type": "code",
      "metadata": {
        "id": "7H6-fO5gChdl"
      },
      "source": [
        ""
      ],
      "execution_count": null,
      "outputs": []
    }
  ]
}